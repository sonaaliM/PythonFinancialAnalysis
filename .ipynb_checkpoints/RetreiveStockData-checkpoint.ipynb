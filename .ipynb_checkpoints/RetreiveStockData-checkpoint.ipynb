{
 "cells": [
  {
   "cell_type": "markdown",
   "metadata": {
    "slideshow": {
     "slide_type": "notes"
    }
   },
   "source": [
    "### Downloading & Plotting Financial Data"
   ]
  },
  {
   "cell_type": "code",
   "execution_count": 10,
   "metadata": {},
   "outputs": [
    {
     "name": "stdout",
     "output_type": "stream",
     "text": [
      "<class 'pandas.core.frame.DataFrame'>\n",
      "DatetimeIndex: 3868 entries, 2002-07-01 to 2017-12-29\n",
      "Data columns (total 6 columns):\n",
      "Open         3816 non-null float64\n",
      "High         3816 non-null float64\n",
      "Low          3816 non-null float64\n",
      "Close        3816 non-null float64\n",
      "Adj Close    3816 non-null float64\n",
      "Volume       3816 non-null float64\n",
      "dtypes: float64(6)\n",
      "memory usage: 211.5 KB\n"
     ]
    },
    {
     "data": {
      "text/html": [
       "<div>\n",
       "<style>\n",
       "    .dataframe thead tr:only-child th {\n",
       "        text-align: right;\n",
       "    }\n",
       "\n",
       "    .dataframe thead th {\n",
       "        text-align: left;\n",
       "    }\n",
       "\n",
       "    .dataframe tbody tr th {\n",
       "        vertical-align: top;\n",
       "    }\n",
       "</style>\n",
       "<table border=\"1\" class=\"dataframe\">\n",
       "  <thead>\n",
       "    <tr style=\"text-align: right;\">\n",
       "      <th></th>\n",
       "      <th>Open</th>\n",
       "      <th>High</th>\n",
       "      <th>Low</th>\n",
       "      <th>Close</th>\n",
       "      <th>Adj Close</th>\n",
       "      <th>Volume</th>\n",
       "    </tr>\n",
       "    <tr>\n",
       "      <th>Date</th>\n",
       "      <th></th>\n",
       "      <th></th>\n",
       "      <th></th>\n",
       "      <th></th>\n",
       "      <th></th>\n",
       "      <th></th>\n",
       "    </tr>\n",
       "  </thead>\n",
       "  <tbody>\n",
       "    <tr>\n",
       "      <th>2017-12-22</th>\n",
       "      <td>1067.000000</td>\n",
       "      <td>1166.000000</td>\n",
       "      <td>1063.199951</td>\n",
       "      <td>1129.500000</td>\n",
       "      <td>1129.500000</td>\n",
       "      <td>450552.0</td>\n",
       "    </tr>\n",
       "    <tr>\n",
       "      <th>2017-12-26</th>\n",
       "      <td>1129.500000</td>\n",
       "      <td>1147.300049</td>\n",
       "      <td>1112.000000</td>\n",
       "      <td>1117.300049</td>\n",
       "      <td>1117.300049</td>\n",
       "      <td>89380.0</td>\n",
       "    </tr>\n",
       "    <tr>\n",
       "      <th>2017-12-27</th>\n",
       "      <td>1117.000000</td>\n",
       "      <td>1122.650024</td>\n",
       "      <td>1071.000000</td>\n",
       "      <td>1076.900024</td>\n",
       "      <td>1076.900024</td>\n",
       "      <td>63029.0</td>\n",
       "    </tr>\n",
       "    <tr>\n",
       "      <th>2017-12-28</th>\n",
       "      <td>1085.000000</td>\n",
       "      <td>1090.800049</td>\n",
       "      <td>1060.250000</td>\n",
       "      <td>1069.199951</td>\n",
       "      <td>1069.199951</td>\n",
       "      <td>75455.0</td>\n",
       "    </tr>\n",
       "    <tr>\n",
       "      <th>2017-12-29</th>\n",
       "      <td>1086.050049</td>\n",
       "      <td>1156.000000</td>\n",
       "      <td>1085.000000</td>\n",
       "      <td>1133.900024</td>\n",
       "      <td>1133.900024</td>\n",
       "      <td>1088579.0</td>\n",
       "    </tr>\n",
       "  </tbody>\n",
       "</table>\n",
       "</div>"
      ],
      "text/plain": [
       "                   Open         High          Low        Close    Adj Close  \\\n",
       "Date                                                                          \n",
       "2017-12-22  1067.000000  1166.000000  1063.199951  1129.500000  1129.500000   \n",
       "2017-12-26  1129.500000  1147.300049  1112.000000  1117.300049  1117.300049   \n",
       "2017-12-27  1117.000000  1122.650024  1071.000000  1076.900024  1076.900024   \n",
       "2017-12-28  1085.000000  1090.800049  1060.250000  1069.199951  1069.199951   \n",
       "2017-12-29  1086.050049  1156.000000  1085.000000  1133.900024  1133.900024   \n",
       "\n",
       "               Volume  \n",
       "Date                   \n",
       "2017-12-22   450552.0  \n",
       "2017-12-26    89380.0  \n",
       "2017-12-27    63029.0  \n",
       "2017-12-28    75455.0  \n",
       "2017-12-29  1088579.0  "
      ]
     },
     "execution_count": 10,
     "metadata": {},
     "output_type": "execute_result"
    }
   ],
   "source": [
    "import numpy as np\n",
    "import pandas as pd\n",
    "from pandas_datareader import data, wb\n",
    "NSE_SCRIPT = data.DataReader(name='AARTIIND.NS', data_source='yahoo',start='2000-01-01')\n",
    "NSE_SCRIPT.info()\n",
    "NSE_SCRIPT.tail()"
   ]
  },
  {
   "cell_type": "code",
   "execution_count": 26,
   "metadata": {},
   "outputs": [
    {
     "data": {
      "text/plain": [
       "pandas.core.series.Series"
      ]
     },
     "execution_count": 26,
     "metadata": {},
     "output_type": "execute_result"
    }
   ],
   "source": [
    "NSE_2016 = NSE_SCRIPT['2016']['Close']\n",
    "type(NSE_2016)"
   ]
  },
  {
   "cell_type": "code",
   "execution_count": 27,
   "metadata": {},
   "outputs": [
    {
     "data": {
      "text/plain": [
       "Date\n",
       "2016-12-26    684.000000\n",
       "2016-12-27    680.750000\n",
       "2016-12-28    673.650024\n",
       "2016-12-29    679.799988\n",
       "2016-12-30    684.950012\n",
       "Name: Close, dtype: float64"
      ]
     },
     "execution_count": 27,
     "metadata": {},
     "output_type": "execute_result"
    }
   ],
   "source": [
    "NSE_2016.tail()"
   ]
  },
  {
   "cell_type": "code",
   "execution_count": 28,
   "metadata": {},
   "outputs": [
    {
     "data": {
      "text/plain": [
       "<matplotlib.axes._subplots.AxesSubplot at 0x1b17a7dc978>"
      ]
     },
     "execution_count": 28,
     "metadata": {},
     "output_type": "execute_result"
    },
    {
     "data": {
      "image/png": "[encoded data removed]",
      "text/plain": [
       "<matplotlib.figure.Figure at 0x1b17a7513c8>"
      ]
     },
     "metadata": {},
     "output_type": "display_data"
    }
   ],
   "source": [
    "%matplotlib inline\n",
    "NSE_SCRIPT['Close'].plot(figsize=(8, 5))"
   ]
  }
 ],
 "metadata": {
  "kernelspec": {
   "display_name": "Python 3",
   "language": "python",
   "name": "python3"
  },
  "language_info": {
   "codemirror_mode": {
    "name": "ipython",
    "version": 3
   },
   "file_extension": ".py",
   "mimetype": "text/x-python",
   "name": "python",
   "nbconvert_exporter": "python",
   "pygments_lexer": "ipython3",
   "version": "3.6.3"
  }
 },
 "nbformat": 4,
 "nbformat_minor": 2
}
